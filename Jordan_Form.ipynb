{
 "cells": [
  {
   "cell_type": "code",
   "execution_count": 1,
   "metadata": {
    "collapsed": false
   },
   "outputs": [
   ],
   "source": [
    "t=PolynomialRing(RationalField(), 't').gen()"
   ]
  },
  {
   "cell_type": "code",
   "execution_count": 2,
   "metadata": {
    "collapsed": false
   },
   "outputs": [
   ],
   "source": [
    "def bezout (*args):\n",
    "    ''' Function that returns the MCD of several polynomials along \n",
    "    with their respective Bezout coefficients\n",
    "    *args: polynomials in any polynomial ring\n",
    "    Returns: GCD for the given polynomials and a coefficient list'''\n",
    "    p = [args[0]]\n",
    "    m = []\n",
    "    for arg in args[1:]:\n",
    "        q,x,y = xgcd(p[0],arg)\n",
    "        p=[]\n",
    "        p.append(q)\n",
    "        if len(m)==0:\n",
    "            m.append(x)\n",
    "            m.append(y)\n",
    "        else:\n",
    "            m = [x*n for n in m]\n",
    "            m.append(y)\n",
    "    m = [factor(n) for n in m]\n",
    "    m.append(q)\n",
    "    return tuple(m)"
   ]
  },
  {
   "cell_type": "code",
   "execution_count": 3,
   "metadata": {
    "collapsed": false
   },
   "outputs": [
   ],
   "source": [
    "def r_finder (poly):\n",
    "    r=[]\n",
    "    for p in list(poly.factor()):\n",
    "        r.append((poly/p[0]**p[1]))\n",
    "    return tuple(r)"
   ]
  },
  {
   "cell_type": "code",
   "execution_count": 4,
   "metadata": {
    "collapsed": false
   },
   "outputs": [
   ],
   "source": [
    "def projections(A,c=False, ext=False, root=None ):\n",
    "    ''' Returns a list of matrices that represent projections upon invariant subspaces of A'''\n",
    "    P=A.charpoly('t')\n",
    "    if c == True:\n",
    "        K.<i>=QQ.extension(t**2+1)\n",
    "        P.change_ring(K)\n",
    "    if ext==True:\n",
    "        K.<r>=QQ.extension(root)\n",
    "    R=r_finder(P)\n",
    "    Q=bezout(*R)\n",
    "    Pi = [R[n]*Q[n] for n in range(len(R))]\n",
    "    p = [g.expand()(A) for g in Pi ]\n",
    "    return (tuple(p))"
   ]
  },
  {
   "cell_type": "code",
   "execution_count": 5,
   "metadata": {
    "collapsed": false
   },
   "outputs": [
   ],
   "source": [
    "def proj_poly(A,c=False, ext=False, root=None ):\n",
    "    ''' Returns a list of matrices that represent projections upon invariant subspaces of A'''\n",
    "    P=A.charpoly('t')\n",
    "    if c == True:\n",
    "        K.<i>=QQ.extension(t**2+1)\n",
    "        P.change_ring(K)\n",
    "    if ext==True:\n",
    "        K.<r>=QQ.extension(root)\n",
    "    R=r_finder(P)\n",
    "    Q=bezout(*R)\n",
    "    Pi = [(R[n]*Q[n]).expand() for n in range(len(R))]\n",
    "    return (tuple(Pi))"
   ]
  },
  {
   "cell_type": "code",
   "execution_count": 6,
   "metadata": {
    "collapsed": false
   },
   "outputs": [
   ],
   "source": [
    "def KroneckerDelta(i,j):\n",
    "    ret = 0\n",
    "    if i==j:\n",
    "        ret = 1\n",
    "    return (ret)"
   ]
  },
  {
   "cell_type": "code",
   "execution_count": 7,
   "metadata": {
    "collapsed": false
   },
   "outputs": [
   ],
   "source": [
    "def canonicRep (op,n):\n",
    "    ### Takes in a linear operator and returns its matrix representation in the canonical base.\n",
    "    cols = []\n",
    "    for i in range(n):\n",
    "        cols.append(list(op(*[KroneckerDelta(i,j) for j in range(n)])))\n",
    "    return column_matrix(cols)"
   ]
  },
  {
   "cell_type": "markdown",
   "metadata": {
    "collapsed": false
   },
   "source": [
    "#### Ejemplo"
   ]
  },
  {
   "cell_type": "code",
   "execution_count": 8,
   "metadata": {
    "collapsed": false
   },
   "outputs": [
   ],
   "source": [
    "A=canonicRep(lambda x1,x2,x3,x4,x5,x6: vector(QQ,[4*x1-6*x2-6*x3-x4+4*x5+9*x6, -x1 -x2 -6*x3 -x4 +4*x5 +9*x6,\n",
    "-2*x1 -2*x2 -2*x3 -2*x4 +3*x5 +8*x6, -2*x1 -7*x2 -2*x3 +3*x4 +3*x5 +8*x6,\n",
    "x1 -4*x2 -4*x3 +x4 +x5 +11*x6, -5*x2 -5*x3 +10*x5 +5*x6]),6)\n",
    "P=A.charpoly('t')"
   ]
  },
  {
   "cell_type": "code",
   "execution_count": 9,
   "metadata": {
    "collapsed": false
   },
   "outputs": [
   ],
   "source": [
    "Pi1,Pi2=proj_poly(A)"
   ]
  },
  {
   "cell_type": "code",
   "execution_count": 10,
   "metadata": {
    "collapsed": false
   },
   "outputs": [
   ],
   "source": [
    "p1,p2=projections(A)"
   ]
  },
  {
   "cell_type": "code",
   "execution_count": 11,
   "metadata": {
    "collapsed": false
   },
   "outputs": [
    {
     "data": {
      "text/plain": [
       "[ 1  1  1  1  0 -3]\n",
       "[ 0  0  0  0  1 -1]\n",
       "[ 0  0  0  0  0  0]\n",
       "[ 0  0  0  0  0  0]\n",
       "[ 0  0  0  0  0  0]\n",
       "[ 0  0  0  0  0  0]"
      ]
     },
     "execution_count": 11,
     "metadata": {
     },
     "output_type": "execute_result"
    }
   ],
   "source": [
    "p1.rref()"
   ]
  },
  {
   "cell_type": "code",
   "execution_count": 12,
   "metadata": {
    "collapsed": false
   },
   "outputs": [
    {
     "data": {
      "text/plain": [
       "[ 1  0  0  0 -1 -1]\n",
       "[ 0  1  0  0 -1 -1]\n",
       "[ 0  0  1  0 -1 -1]\n",
       "[ 0  0  0  1 -1 -1]\n",
       "[ 0  0  0  0  0  0]\n",
       "[ 0  0  0  0  0  0]"
      ]
     },
     "execution_count": 12,
     "metadata": {
     },
     "output_type": "execute_result"
    }
   ],
   "source": [
    "p2.rref()"
   ]
  },
  {
   "cell_type": "code",
   "execution_count": 13,
   "metadata": {
    "collapsed": false,
    "scrolled": true
   },
   "outputs": [
    {
     "data": {
      "text/plain": [
       "(t + 5)^2 * (t - 5)^4"
      ]
     },
     "execution_count": 13,
     "metadata": {
     },
     "output_type": "execute_result"
    }
   ],
   "source": [
    "P.factor()"
   ]
  },
  {
   "cell_type": "code",
   "execution_count": 14,
   "metadata": {
    "collapsed": false
   },
   "outputs": [
   ],
   "source": [
    "P1=t+5\n",
    "P2=t-5"
   ]
  },
  {
   "cell_type": "code",
   "execution_count": 15,
   "metadata": {
    "collapsed": false
   },
   "outputs": [
    {
     "data": {
      "text/plain": [
       "[ 1  1  1  1  0 -3]\n",
       "[ 0  0  0  0  1 -1]\n",
       "[ 0  0  0  0  0  0]\n",
       "[ 0  0  0  0  0  0]\n",
       "[ 0  0  0  0  0  0]\n",
       "[ 0  0  0  0  0  0]"
      ]
     },
     "execution_count": 15,
     "metadata": {
     },
     "output_type": "execute_result"
    }
   ],
   "source": [
    "(P2(A)**3).rref()"
   ]
  },
  {
   "cell_type": "markdown",
   "metadata": {
    "collapsed": false
   },
   "source": [
    "#### Punto 1"
   ]
  },
  {
   "cell_type": "code",
   "execution_count": 16,
   "metadata": {
    "collapsed": false
   },
   "outputs": [
   ],
   "source": [
    "A=canonicRep(lambda x,y,z,w: vector(QQ,[3*x-3*y+3*w, 2*x-y-z+2*w, 2*x-y-z+2*w, 2*x-4*y+2*z+2*w]),4)\n",
    "P=A.charpoly('t')"
   ]
  },
  {
   "cell_type": "code",
   "execution_count": 17,
   "metadata": {
    "collapsed": false
   },
   "outputs": [
    {
     "data": {
      "text/plain": [
       "(\n",
       "[ 3 -3  0  3]  [  9 -18   9   9]  [ 27 -54  27  27]\n",
       "[ 2 -1 -1  2]  [  6 -12   6   6]  [ 18 -36  18  18]\n",
       "[ 2 -1 -1  2]  [  6 -12   6   6]  [ 18 -36  18  18]\n",
       "[ 2 -4  2  2], [  6 -12   6   6], [ 18 -36  18  18],\n",
       "\n",
       "[  81 -162   81   81]\n",
       "[  54 -108   54   54]\n",
       "[  54 -108   54   54]\n",
       "[  54 -108   54   54]\n",
       ")"
      ]
     },
     "execution_count": 17,
     "metadata": {
     },
     "output_type": "execute_result"
    }
   ],
   "source": [
    "A, A**2, A**3, A**4"
   ]
  },
  {
   "cell_type": "code",
   "execution_count": 18,
   "metadata": {
    "collapsed": false
   },
   "outputs": [
    {
     "data": {
      "text/plain": [
       "(t - 3) * t^3"
      ]
     },
     "execution_count": 18,
     "metadata": {
     },
     "output_type": "execute_result"
    }
   ],
   "source": [
    "P.factor()"
   ]
  },
  {
   "cell_type": "code",
   "execution_count": 19,
   "metadata": {
    "collapsed": false
   },
   "outputs": [
   ],
   "source": [
    "P1 = t-3\n",
    "P2 = t"
   ]
  },
  {
   "cell_type": "code",
   "execution_count": 20,
   "metadata": {
    "collapsed": false
   },
   "outputs": [
   ],
   "source": [
    "p1,p2=projections(A)"
   ]
  },
  {
   "cell_type": "code",
   "execution_count": 21,
   "metadata": {
    "collapsed": false,
    "scrolled": true
   },
   "outputs": [
    {
     "data": {
      "text/plain": [
       "[ 1 -2  1  1]\n",
       "[ 0  0  0  0]\n",
       "[ 0  0  0  0]\n",
       "[ 0  0  0  0]"
      ]
     },
     "execution_count": 21,
     "metadata": {
     },
     "output_type": "execute_result"
    }
   ],
   "source": [
    "p1.rref()"
   ]
  },
  {
   "cell_type": "code",
   "execution_count": 22,
   "metadata": {
    "collapsed": false
   },
   "outputs": [
    {
     "data": {
      "text/plain": [
       "[   1    0    0 -3/2]\n",
       "[   0    1    0   -1]\n",
       "[   0    0    1   -1]\n",
       "[   0    0    0    0]"
      ]
     },
     "execution_count": 22,
     "metadata": {
     },
     "output_type": "execute_result"
    }
   ],
   "source": [
    "p2.rref()"
   ]
  },
  {
   "cell_type": "code",
   "execution_count": 23,
   "metadata": {
    "collapsed": false
   },
   "outputs": [
    {
     "data": {
      "text/plain": [
       "[   1    0    0 -3/2]\n",
       "[   0    1    0   -1]\n",
       "[   0    0    1   -1]\n",
       "[   0    0    0    0]"
      ]
     },
     "execution_count": 23,
     "metadata": {
     },
     "output_type": "execute_result"
    }
   ],
   "source": [
    "(P1(A)).rref()"
   ]
  },
  {
   "cell_type": "code",
   "execution_count": 24,
   "metadata": {
    "collapsed": false
   },
   "outputs": [
    {
     "data": {
      "text/plain": [
       "[ 1  0 -1  1]\n",
       "[ 0  1 -1  0]\n",
       "[ 0  0  0  0]\n",
       "[ 0  0  0  0]"
      ]
     },
     "execution_count": 24,
     "metadata": {
     },
     "output_type": "execute_result"
    }
   ],
   "source": [
    "(P2(A)).rref()"
   ]
  },
  {
   "cell_type": "code",
   "execution_count": 25,
   "metadata": {
    "collapsed": false
   },
   "outputs": [
    {
     "data": {
      "text/plain": [
       "[ 1 -2  1  1]\n",
       "[ 0  0  0  0]\n",
       "[ 0  0  0  0]\n",
       "[ 0  0  0  0]"
      ]
     },
     "execution_count": 25,
     "metadata": {
     },
     "output_type": "execute_result"
    }
   ],
   "source": [
    "(P2(A)**2).rref()"
   ]
  },
  {
   "cell_type": "code",
   "execution_count": 26,
   "metadata": {
    "collapsed": false
   },
   "outputs": [
    {
     "data": {
      "text/plain": [
       "[3|0 0|0]\n",
       "[-+---+-]\n",
       "[0|0 1|0]\n",
       "[0|0 0|0]\n",
       "[-+---+-]\n",
       "[0|0 0|0]"
      ]
     },
     "execution_count": 26,
     "metadata": {
     },
     "output_type": "execute_result"
    }
   ],
   "source": [
    "A.jordan_form()"
   ]
  },
  {
   "cell_type": "code",
   "execution_count": 27,
   "metadata": {
    "collapsed": false
   },
   "outputs": [
    {
     "data": {
      "text/plain": [
       "(-3, -3, -3, 0)"
      ]
     },
     "execution_count": 27,
     "metadata": {
     },
     "output_type": "execute_result"
    }
   ],
   "source": [
    "P2(A)*vector(QQ,[-1,0,1,0])"
   ]
  },
  {
   "cell_type": "code",
   "execution_count": 28,
   "metadata": {
    "collapsed": false
   },
   "outputs": [
   ],
   "source": [
    "v1=vector(QQ,[3/2,1,1,1])\n",
    "v2=vector(QQ,[-1,0,1,0])\n",
    "v3=vector(QQ,[-3,-3,-3,0])\n",
    "v4=vector(QQ,[-1,0,0,1])"
   ]
  },
  {
   "cell_type": "code",
   "execution_count": 29,
   "metadata": {
    "collapsed": false
   },
   "outputs": [
   ],
   "source": [
    "C = column_matrix([v1,v2,v3,v4])"
   ]
  },
  {
   "cell_type": "code",
   "execution_count": 30,
   "metadata": {
    "collapsed": false
   },
   "outputs": [
    {
     "data": {
      "text/plain": [
       "[3 0 0 0]\n",
       "[0 0 0 0]\n",
       "[0 1 0 0]\n",
       "[0 0 0 0]"
      ]
     },
     "execution_count": 30,
     "metadata": {
     },
     "output_type": "execute_result"
    }
   ],
   "source": [
    "C^(-1)*A*C"
   ]
  },
  {
   "cell_type": "markdown",
   "metadata": {
    "collapsed": false
   },
   "source": [
    "#### Punto 2"
   ]
  },
  {
   "cell_type": "code",
   "execution_count": 31,
   "metadata": {
    "collapsed": false
   },
   "outputs": [
   ],
   "source": [
    "A=canonicRep(lambda x,y,z,w: vector(QQ,[-x+2*y-z+2*w, x+y-2*z+w, -x+2*y-z+2*w, -2*x+y+z+w]),4)\n",
    "P=A.charpoly('t')"
   ]
  },
  {
   "cell_type": "code",
   "execution_count": 32,
   "metadata": {
    "collapsed": false
   },
   "outputs": [
    {
     "data": {
      "text/plain": [
       "(\n",
       "[-1  2 -1  2]  [0 0 0 0]  [0 0 0 0]  [0 0 0 0]\n",
       "[ 1  1 -2  1]  [0 0 0 0]  [0 0 0 0]  [0 0 0 0]\n",
       "[-1  2 -1  2]  [0 0 0 0]  [0 0 0 0]  [0 0 0 0]\n",
       "[-2  1  1  1], [0 0 0 0], [0 0 0 0], [0 0 0 0]\n",
       ")"
      ]
     },
     "execution_count": 32,
     "metadata": {
     },
     "output_type": "execute_result"
    }
   ],
   "source": [
    "A, A**2, A**3, A**4"
   ]
  },
  {
   "cell_type": "code",
   "execution_count": 33,
   "metadata": {
    "collapsed": false,
    "scrolled": true
   },
   "outputs": [
    {
     "data": {
      "text/plain": [
       "[ 1  0 -1  0]\n",
       "[ 0  1 -1  1]\n",
       "[ 0  0  0  0]\n",
       "[ 0  0  0  0]"
      ]
     },
     "execution_count": 33,
     "metadata": {
     },
     "output_type": "execute_result"
    }
   ],
   "source": [
    "A.rref()"
   ]
  },
  {
   "cell_type": "code",
   "execution_count": 34,
   "metadata": {
    "collapsed": false
   },
   "outputs": [
   ],
   "source": [
    "v2 = vector(QQ,[1,0,0,0])\n",
    "v1 = A*v2\n",
    "v4 = vector(QQ,[0,0,0,1])\n",
    "v3 = A*vector(QQ,[0,0,0,1])"
   ]
  },
  {
   "cell_type": "code",
   "execution_count": 35,
   "metadata": {
    "collapsed": false
   },
   "outputs": [
    {
     "data": {
      "text/plain": [
       "(-1, 1, -1, -2)"
      ]
     },
     "execution_count": 35,
     "metadata": {
     },
     "output_type": "execute_result"
    }
   ],
   "source": [
    "v1"
   ]
  },
  {
   "cell_type": "code",
   "execution_count": 36,
   "metadata": {
    "collapsed": false
   },
   "outputs": [
   ],
   "source": [
    "C = column_matrix([v1,v2,v3,v4])"
   ]
  },
  {
   "cell_type": "code",
   "execution_count": 37,
   "metadata": {
    "collapsed": false
   },
   "outputs": [
    {
     "data": {
      "text/plain": [
       "[0 1 0 0]\n",
       "[0 0 0 0]\n",
       "[0 0 0 1]\n",
       "[0 0 0 0]"
      ]
     },
     "execution_count": 37,
     "metadata": {
     },
     "output_type": "execute_result"
    }
   ],
   "source": [
    "C^(-1)*A*C"
   ]
  },
  {
   "cell_type": "code",
   "execution_count": 38,
   "metadata": {
    "collapsed": false
   },
   "outputs": [
    {
     "data": {
      "text/plain": [
       "[0 1|0 0]\n",
       "[0 0|0 0]\n",
       "[---+---]\n",
       "[0 0|0 1]\n",
       "[0 0|0 0]"
      ]
     },
     "execution_count": 38,
     "metadata": {
     },
     "output_type": "execute_result"
    }
   ],
   "source": [
    "A.jordan_form()"
   ]
  },
  {
   "cell_type": "code",
   "execution_count": 0,
   "metadata": {
    "collapsed": false
   },
   "outputs": [
   ],
   "source": [
   ]
  }
 ],
 "metadata": {
  "kernelspec": {
   "display_name": "SageMath (stable)",
   "language": "sagemath",
   "metadata": {
    "cocalc": {
     "description": "Open-source mathematical software system",
     "priority": 10,
     "url": "https://www.sagemath.org/"
    }
   },
   "name": "sagemath"
  },
  "language_info": {
   "codemirror_mode": {
    "name": "ipython",
    "version": 2
   },
   "file_extension": ".py",
   "mimetype": "text/x-python",
   "name": "python",
   "nbconvert_exporter": "python",
   "pygments_lexer": "ipython2",
   "version": "2.7.15"
  }
 },
 "nbformat": 4,
 "nbformat_minor": 0
}