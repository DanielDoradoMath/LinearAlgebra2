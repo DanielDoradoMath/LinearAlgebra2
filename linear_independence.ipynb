{
 "cells": [
  {
   "cell_type": "code",
   "execution_count": 1,
   "metadata": {},
   "outputs": [],
   "source": [
    "from sympy.matrices import Matrix, eye, zeros, ones, diag, GramSchmidt, MatrixSymbol, Transpose\n",
    "from sympy.functions import transpose"
   ]
  },
  {
   "cell_type": "markdown",
   "metadata": {},
   "source": [
    "### Punto 1"
   ]
  },
  {
   "cell_type": "code",
   "execution_count": 2,
   "metadata": {},
   "outputs": [],
   "source": [
    "def mat(*args):\n",
    "    # Returns a matrix with the given vectors as columns\n",
    "    return (transpose(Matrix([n for n in args])).as_mutable())"
   ]
  },
  {
   "cell_type": "code",
   "execution_count": 3,
   "metadata": {},
   "outputs": [],
   "source": [
    "v1=[1,0,-2,1]\n",
    "v2=[0,-1,1,1]\n",
    "v3=[-1,2,1,0]\n",
    "v4=[2,1,-4,4]\n",
    "A=mat(v1,v2,v3,v4)"
   ]
  },
  {
   "cell_type": "code",
   "execution_count": 4,
   "metadata": {},
   "outputs": [
    {
     "data": {
      "text/plain": [
       "3"
      ]
     },
     "execution_count": 4,
     "metadata": {},
     "output_type": "execute_result"
    }
   ],
   "source": [
    "A.rank()"
   ]
  },
  {
   "cell_type": "code",
   "execution_count": 5,
   "metadata": {},
   "outputs": [
    {
     "data": {
      "text/plain": [
       "Matrix([\n",
       "[1,  0, -1,  2],\n",
       "[0, -1,  2,  1],\n",
       "[0,  0, -1, -1],\n",
       "[0,  0,  0,  0]])"
      ]
     },
     "execution_count": 5,
     "metadata": {},
     "output_type": "execute_result"
    }
   ],
   "source": [
    "A.echelon_form()"
   ]
  },
  {
   "cell_type": "code",
   "execution_count": 6,
   "metadata": {},
   "outputs": [],
   "source": [
    "A.col_del(3)"
   ]
  },
  {
   "cell_type": "code",
   "execution_count": 7,
   "metadata": {},
   "outputs": [
    {
     "data": {
      "text/plain": [
       "Matrix([\n",
       "[ 1,  0, -1],\n",
       "[ 0, -1,  2],\n",
       "[-2,  1,  1],\n",
       "[ 1,  1,  0]])"
      ]
     },
     "execution_count": 7,
     "metadata": {},
     "output_type": "execute_result"
    }
   ],
   "source": [
    "A"
   ]
  },
  {
   "cell_type": "code",
   "execution_count": 8,
   "metadata": {},
   "outputs": [],
   "source": [
    "coeff,param =A.gauss_jordan_solve(Matrix(4,1,v4))"
   ]
  },
  {
   "cell_type": "code",
   "execution_count": 9,
   "metadata": {},
   "outputs": [
    {
     "data": {
      "text/plain": [
       "Matrix([\n",
       "[3],\n",
       "[1],\n",
       "[1]])"
      ]
     },
     "execution_count": 9,
     "metadata": {},
     "output_type": "execute_result"
    }
   ],
   "source": [
    "coeff"
   ]
  },
  {
   "cell_type": "markdown",
   "metadata": {},
   "source": [
    "## General solution"
   ]
  },
  {
   "cell_type": "code",
   "execution_count": 10,
   "metadata": {},
   "outputs": [],
   "source": [
    "def linind_subset (*args):\n",
    "    # Function that returns a maximal linearly independent subset of the given vectors\n",
    "    # *args: Python lists of the same length\n",
    "    # returns: List of vectors\n",
    "    K=mat(*args)\n",
    "    A=K\n",
    "    col = len(args)\n",
    "    r = []\n",
    "    if K.rank() == col:\n",
    "        return ([n for n in args])\n",
    "    else:\n",
    "        while A.rank()< col:\n",
    "            A.col_del(0)\n",
    "            col -= 1\n",
    "        for i in range(col):\n",
    "            v = []\n",
    "            for j in A[:,i]:\n",
    "                v.append(j)\n",
    "            r.append(v)\n",
    "        return (r)"
   ]
  },
  {
   "cell_type": "code",
   "execution_count": 11,
   "metadata": {},
   "outputs": [],
   "source": [
    "def linearCombination (v, *args):\n",
    "    # Returns scalars for the linear combination of *args such that it is equal to v.\n",
    "    # v: list\n",
    "    # *args: lists of the same length as v\n",
    "    K = mat(*args)\n",
    "    coeff, param = K.gauss_jordan_solve(Matrix(v))\n",
    "    return ([c for c in coeff])"
   ]
  },
  {
   "cell_type": "markdown",
   "metadata": {},
   "source": [
    "### Punto 2"
   ]
  },
  {
   "cell_type": "code",
   "execution_count": 12,
   "metadata": {},
   "outputs": [],
   "source": [
    "v1=[1,0,-2,1]\n",
    "v2=[0,-1,1,1]\n",
    "v3=[-1,2,1,0]\n",
    "v4=[2,1,2,-2]"
   ]
  },
  {
   "cell_type": "code",
   "execution_count": 13,
   "metadata": {},
   "outputs": [
    {
     "data": {
      "text/plain": [
       "[[1, 0, -2, 1], [0, -1, 1, 1], [-1, 2, 1, 0], [2, 1, 2, -2]]"
      ]
     },
     "execution_count": 13,
     "metadata": {},
     "output_type": "execute_result"
    }
   ],
   "source": [
    "linind_subset(v1,v2,v3,v4)"
   ]
  },
  {
   "cell_type": "markdown",
   "metadata": {},
   "source": [
    "### Punto 3"
   ]
  },
  {
   "cell_type": "code",
   "execution_count": 14,
   "metadata": {},
   "outputs": [],
   "source": [
    "v1=[1,-1,5,-8,6]\n",
    "v2=[-1,1,-5,5,-3]\n",
    "v3=[1,0,3,-3,5]\n",
    "v4=[2,3,4,-1,1]\n",
    "v5=[0,1,0,-1,2]"
   ]
  },
  {
   "cell_type": "code",
   "execution_count": 15,
   "metadata": {},
   "outputs": [
    {
     "data": {
      "text/plain": [
       "[[1, -1, 5, -8, 6],\n",
       " [-1, 1, -5, 5, -3],\n",
       " [1, 0, 3, -3, 5],\n",
       " [2, 3, 4, -1, 1],\n",
       " [0, 1, 0, -1, 2]]"
      ]
     },
     "execution_count": 15,
     "metadata": {},
     "output_type": "execute_result"
    }
   ],
   "source": [
    "linind_subset(v1,v2,v3,v4,v5)"
   ]
  },
  {
   "cell_type": "markdown",
   "metadata": {},
   "source": [
    "### Punto 4"
   ]
  },
  {
   "cell_type": "code",
   "execution_count": 16,
   "metadata": {},
   "outputs": [],
   "source": [
    "v1=[1,-1,5,-8,6]\n",
    "v2=[-1,1,-5,5,-3]\n",
    "v3=[1,0,3,-3,5]\n",
    "v4=[2,1,4,8,0]"
   ]
  },
  {
   "cell_type": "code",
   "execution_count": 17,
   "metadata": {},
   "outputs": [
    {
     "data": {
      "text/plain": [
       "[[-1, 1, -5, 5, -3], [1, 0, 3, -3, 5], [2, 1, 4, 8, 0]]"
      ]
     },
     "execution_count": 17,
     "metadata": {},
     "output_type": "execute_result"
    }
   ],
   "source": [
    "linind_subset(v1,v2,v3,v4)"
   ]
  },
  {
   "cell_type": "code",
   "execution_count": 18,
   "metadata": {},
   "outputs": [
    {
     "data": {
      "text/plain": [
       "[-3/4, 3/4, -1/4]"
      ]
     },
     "execution_count": 18,
     "metadata": {},
     "output_type": "execute_result"
    }
   ],
   "source": [
    "linearCombination(v1,v2,v3,v4)"
   ]
  },
  {
   "cell_type": "markdown",
   "metadata": {},
   "source": [
    "### Punto 5"
   ]
  },
  {
   "cell_type": "code",
   "execution_count": 19,
   "metadata": {},
   "outputs": [],
   "source": [
    "v1=[1,1,0,0,0,0]\n",
    "v2=[0,0,1,1,0,0]\n",
    "v3=[0,0,0,0,1,1]\n",
    "v4=[1,0,1,0,1,0]\n",
    "v5=[0,1,0,1,0,1]"
   ]
  },
  {
   "cell_type": "code",
   "execution_count": 20,
   "metadata": {},
   "outputs": [
    {
     "data": {
      "text/plain": [
       "[[0, 0, 1, 1, 0, 0],\n",
       " [0, 0, 0, 0, 1, 1],\n",
       " [1, 0, 1, 0, 1, 0],\n",
       " [0, 1, 0, 1, 0, 1]]"
      ]
     },
     "execution_count": 20,
     "metadata": {},
     "output_type": "execute_result"
    }
   ],
   "source": [
    "linind_subset(v1,v2,v3,v4,v5)"
   ]
  },
  {
   "cell_type": "code",
   "execution_count": 21,
   "metadata": {},
   "outputs": [
    {
     "data": {
      "text/plain": [
       "[-1, -1, 1, 1]"
      ]
     },
     "execution_count": 21,
     "metadata": {},
     "output_type": "execute_result"
    }
   ],
   "source": [
    "linearCombination(v1,v2,v3,v4,v5)"
   ]
  },
  {
   "cell_type": "code",
   "execution_count": null,
   "metadata": {},
   "outputs": [],
   "source": []
  }
 ],
 "metadata": {
  "kernelspec": {
   "display_name": "Python 3",
   "language": "python",
   "name": "python3"
  },
  "language_info": {
   "codemirror_mode": {
    "name": "ipython",
    "version": 3
   },
   "file_extension": ".py",
   "mimetype": "text/x-python",
   "name": "python",
   "nbconvert_exporter": "python",
   "pygments_lexer": "ipython3",
   "version": "3.7.4"
  }
 },
 "nbformat": 4,
 "nbformat_minor": 4
}
