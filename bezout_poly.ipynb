{
 "cells": [
  {
   "cell_type": "code",
   "execution_count": 1,
   "metadata": {},
   "outputs": [],
   "source": [
    "from sympy import *\n",
    "x, y, z, t = symbols('x y z t')"
   ]
  },
  {
   "cell_type": "code",
   "execution_count": 2,
   "metadata": {},
   "outputs": [],
   "source": [
    "# Define polynomials\n",
    "p_1 = (t-3)*(t-5)\n",
    "p_2 = (t-1)*(t-5)\n",
    "p_3 = (t-1)*(t-3)"
   ]
  },
  {
   "cell_type": "code",
   "execution_count": 3,
   "metadata": {},
   "outputs": [],
   "source": [
    "# Bezout factors and GCD of p_1, p_2\n",
    "x1,y1,r =gcdex(p_1,p_2)"
   ]
  },
  {
   "cell_type": "code",
   "execution_count": 4,
   "metadata": {},
   "outputs": [],
   "source": [
    "# Bezout factors and GCD of p_3 and r\n",
    "z,y2,d =gcdex(p_3,r)"
   ]
  },
  {
   "cell_type": "code",
   "execution_count": 5,
   "metadata": {},
   "outputs": [],
   "source": [
    "# Bezout factors for p_1, p_2 and p_3\n",
    "x = factor(x1*y2)\n",
    "y = factor(y1*y2)\n",
    "z = factor(z)"
   ]
  },
  {
   "cell_type": "code",
   "execution_count": 6,
   "metadata": {},
   "outputs": [
    {
     "data": {
      "text/plain": [
       "True"
      ]
     },
     "execution_count": 6,
     "metadata": {},
     "output_type": "execute_result"
    }
   ],
   "source": [
    "# Verify Bezout's identity\n",
    "factor(factor(x*p_1)+factor(y*p_2)+factor(z*p_3))==d"
   ]
  },
  {
   "cell_type": "code",
   "execution_count": 7,
   "metadata": {},
   "outputs": [
    {
     "name": "stdout",
     "output_type": "stream",
     "text": [
      "Q1 = (t + 1)/16 , Q2 = -(t + 1)/16 , Q3 = 1/8, MCD = 1\n"
     ]
    }
   ],
   "source": [
    "print('Q1 = %s , Q2 = %s , Q3 = %s, MCD = %s' %(x,y,z,d))"
   ]
  },
  {
   "cell_type": "markdown",
   "metadata": {},
   "source": [
    "### General solution"
   ]
  },
  {
   "cell_type": "code",
   "execution_count": 8,
   "metadata": {},
   "outputs": [],
   "source": [
    "def bezout (*args):\n",
    "    ''' Function that returns the MCD of several polynomials along \n",
    "    with their respective Bezout coefficients\n",
    "    *args: polynomials in any polynomial ring\n",
    "    Returns: GCD for the given polynomials and a coefficient list'''\n",
    "    p = [args[0]]\n",
    "    m = []\n",
    "    for arg in args[1:]:\n",
    "        x,y,q = gcdex(p[0],arg)\n",
    "        p=[]\n",
    "        p.append(q)\n",
    "        if len(m)==0:\n",
    "            m.append(x)\n",
    "            m.append(y)\n",
    "        else:\n",
    "            m = [x*n for n in m]\n",
    "            m.append(y)\n",
    "    m = [factor(n) for n in m]\n",
    "    m.append(q)\n",
    "    return tuple(m)"
   ]
  },
  {
   "cell_type": "code",
   "execution_count": 9,
   "metadata": {},
   "outputs": [],
   "source": [
    "x,y,z,d = bezout(p_1,p_2,p_3)"
   ]
  },
  {
   "cell_type": "code",
   "execution_count": 10,
   "metadata": {},
   "outputs": [
    {
     "name": "stdout",
     "output_type": "stream",
     "text": [
      "Q1 = (t + 1)/16 , Q2 = -(t + 1)/16 , Q3 = 1/8, MCD = 1\n"
     ]
    }
   ],
   "source": [
    "print('Q1 = %s , Q2 = %s , Q3 = %s, MCD = %s' %(x,y,z,d))"
   ]
  },
  {
   "cell_type": "markdown",
   "metadata": {},
   "source": [
    "### Punto 2"
   ]
  },
  {
   "cell_type": "code",
   "execution_count": 11,
   "metadata": {},
   "outputs": [],
   "source": [
    "p_1 = (t-3)\n",
    "p_2 = (t-1)**2"
   ]
  },
  {
   "cell_type": "code",
   "execution_count": 12,
   "metadata": {},
   "outputs": [],
   "source": [
    "x,y,d =bezout(p_1,p_2)"
   ]
  },
  {
   "cell_type": "code",
   "execution_count": 13,
   "metadata": {},
   "outputs": [],
   "source": [
    "a,b,r= gcdex(p_1,p_2)"
   ]
  },
  {
   "cell_type": "code",
   "execution_count": 14,
   "metadata": {},
   "outputs": [
    {
     "data": {
      "text/plain": [
       "True"
      ]
     },
     "execution_count": 14,
     "metadata": {},
     "output_type": "execute_result"
    }
   ],
   "source": [
    "factor(factor(x*p_1)+factor(y*p_2))==d"
   ]
  },
  {
   "cell_type": "code",
   "execution_count": 15,
   "metadata": {},
   "outputs": [
    {
     "data": {
      "text/plain": [
       "True"
      ]
     },
     "execution_count": 15,
     "metadata": {},
     "output_type": "execute_result"
    }
   ],
   "source": [
    "factor(factor(a*p_1)+factor(b*p_2))==r"
   ]
  },
  {
   "cell_type": "code",
   "execution_count": 16,
   "metadata": {},
   "outputs": [
    {
     "name": "stdout",
     "output_type": "stream",
     "text": [
      "Q1 = -(t + 1)/4 , Q2 = 1/4 , MCD = 1\n"
     ]
    }
   ],
   "source": [
    "print('Q1 = %s , Q2 = %s , MCD = %s' %(x,y,d))"
   ]
  },
  {
   "cell_type": "markdown",
   "metadata": {},
   "source": [
    "### Punto 3"
   ]
  },
  {
   "cell_type": "code",
   "execution_count": 17,
   "metadata": {},
   "outputs": [],
   "source": [
    "p_1 = (t-1)*(t**2-2)\n",
    "p_2 = (t+1)*(t**2-2)\n",
    "p_3 = (t**2-1)"
   ]
  },
  {
   "cell_type": "code",
   "execution_count": 18,
   "metadata": {},
   "outputs": [],
   "source": [
    "x,y,z,d = bezout(p_1,p_2,p_3)"
   ]
  },
  {
   "cell_type": "code",
   "execution_count": 19,
   "metadata": {},
   "outputs": [
    {
     "data": {
      "text/plain": [
       "True"
      ]
     },
     "execution_count": 19,
     "metadata": {},
     "output_type": "execute_result"
    }
   ],
   "source": [
    "factor(factor(x*p_1)+factor(y*p_2)+factor(z*p_3))==d"
   ]
  },
  {
   "cell_type": "code",
   "execution_count": 20,
   "metadata": {},
   "outputs": [
    {
     "name": "stdout",
     "output_type": "stream",
     "text": [
      "Q1 = 1/2 , Q2 = -1/2 , Q3 = 1, MCD = 1\n"
     ]
    }
   ],
   "source": [
    "print('Q1 = %s , Q2 = %s , Q3 = %s, MCD = %s' %(x,y,z,d))"
   ]
  },
  {
   "cell_type": "markdown",
   "metadata": {},
   "source": [
    "### Punto 4"
   ]
  },
  {
   "cell_type": "code",
   "execution_count": 21,
   "metadata": {},
   "outputs": [],
   "source": [
    "p_1 = t**2-2*t+10\n",
    "p_2 = t**2-2*t+2"
   ]
  },
  {
   "cell_type": "code",
   "execution_count": 22,
   "metadata": {},
   "outputs": [],
   "source": [
    "x,y,d = bezout(p_1,p_2)"
   ]
  },
  {
   "cell_type": "code",
   "execution_count": 23,
   "metadata": {},
   "outputs": [],
   "source": [
    "a,b,r = gcdex(p_1,p_2) "
   ]
  },
  {
   "cell_type": "code",
   "execution_count": 24,
   "metadata": {},
   "outputs": [
    {
     "data": {
      "text/plain": [
       "True"
      ]
     },
     "execution_count": 24,
     "metadata": {},
     "output_type": "execute_result"
    }
   ],
   "source": [
    "factor(factor(x*p_1)+factor(y*p_2))==d"
   ]
  },
  {
   "cell_type": "code",
   "execution_count": 25,
   "metadata": {},
   "outputs": [
    {
     "data": {
      "text/plain": [
       "True"
      ]
     },
     "execution_count": 25,
     "metadata": {},
     "output_type": "execute_result"
    }
   ],
   "source": [
    "factor(factor(a*p_1)+factor(b*p_2))==r"
   ]
  },
  {
   "cell_type": "code",
   "execution_count": 26,
   "metadata": {},
   "outputs": [
    {
     "name": "stdout",
     "output_type": "stream",
     "text": [
      "Q1 = 1/8 , Q2 = -1/8 , MCD = 1\n"
     ]
    }
   ],
   "source": [
    "print('Q1 = %s , Q2 = %s , MCD = %s' %(x,y,d))"
   ]
  },
  {
   "cell_type": "code",
   "execution_count": null,
   "metadata": {},
   "outputs": [],
   "source": []
  }
 ],
 "metadata": {
  "kernelspec": {
   "display_name": "Python 3",
   "language": "python",
   "name": "python3"
  },
  "language_info": {
   "codemirror_mode": {
    "name": "ipython",
    "version": 3
   },
   "file_extension": ".py",
   "mimetype": "text/x-python",
   "name": "python",
   "nbconvert_exporter": "python",
   "pygments_lexer": "ipython3",
   "version": "3.7.4"
  }
 },
 "nbformat": 4,
 "nbformat_minor": 4
}
